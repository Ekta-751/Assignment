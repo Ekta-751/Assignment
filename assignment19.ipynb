{
 "cells": [
  {
   "cell_type": "markdown",
   "metadata": {},
   "source": []
  },
  {
   "cell_type": "markdown",
   "metadata": {},
   "source": [
    "# Create a numpy array with 10 elements of the shape(10,1) using np.random and find out the mean of the elements using basic\n",
    "## numpy functions.\n"
   ]
  },
  {
   "cell_type": "code",
   "execution_count": 42,
   "metadata": {},
   "outputs": [
    {
     "name": "stdout",
     "output_type": "stream",
     "text": [
      "[[0.63626294]\n",
      " [0.04836634]\n",
      " [0.98285399]\n",
      " [0.73616864]\n",
      " [0.50451074]\n",
      " [0.55925929]\n",
      " [0.5984993 ]\n",
      " [0.91572857]\n",
      " [0.22794517]\n",
      " [0.41936697]]\n"
     ]
    }
   ],
   "source": [
    "import numpy as np\n",
    "a=np.random.random([10,1])\n",
    "print(a)\n"
   ]
  },
  {
   "cell_type": "code",
   "execution_count": 41,
   "metadata": {},
   "outputs": [
    {
     "name": "stdout",
     "output_type": "stream",
     "text": [
      "0.37618875247073175\n"
     ]
    }
   ],
   "source": [
    "print(a.mean())"
   ]
  },
  {
   "cell_type": "markdown",
   "metadata": {},
   "source": [
    "# Create a numpy array with 20 elements of the shape(20,1) using np.random find the variance and standard deviation of the elements."
   ]
  },
  {
   "cell_type": "code",
   "execution_count": 43,
   "metadata": {},
   "outputs": [
    {
     "name": "stdout",
     "output_type": "stream",
     "text": [
      "[[0.8381027 ]\n",
      " [0.20840986]\n",
      " [0.46724104]\n",
      " [0.83211858]\n",
      " [0.44873758]\n",
      " [0.01176042]\n",
      " [0.77824943]\n",
      " [0.08737817]\n",
      " [0.33571973]\n",
      " [0.28866241]\n",
      " [0.46649228]\n",
      " [0.74728603]\n",
      " [0.33695825]\n",
      " [0.69234948]\n",
      " [0.7052047 ]\n",
      " [0.32497329]\n",
      " [0.33767698]\n",
      " [0.15460439]\n",
      " [0.45030828]\n",
      " [0.18078746]]\n"
     ]
    }
   ],
   "source": [
    "import numpy as np\n",
    "x=np.random.random([20,1])\n",
    "print(x)"
   ]
  },
  {
   "cell_type": "code",
   "execution_count": 44,
   "metadata": {},
   "outputs": [
    {
     "name": "stdout",
     "output_type": "stream",
     "text": [
      "0.0617125743580977\n"
     ]
    }
   ],
   "source": [
    "print(x.var())"
   ]
  },
  {
   "cell_type": "code",
   "execution_count": 11,
   "metadata": {},
   "outputs": [
    {
     "name": "stdout",
     "output_type": "stream",
     "text": [
      "0.2169972960907073\n"
     ]
    }
   ],
   "source": [
    "print(x.std())"
   ]
  },
  {
   "cell_type": "markdown",
   "metadata": {},
   "source": [
    "#Create a numpy array A of shape(10,20) and B of shape (20,25) using np.random. Print the matrix which is the matrix multiplication of A and B. The shape of the new matrix should be (10,25). Using basic numpy math functions only find the sum of all the elements of the new matrix."
   ]
  },
  {
   "cell_type": "markdown",
   "metadata": {},
   "source": []
  },
  {
   "cell_type": "code",
   "execution_count": 45,
   "metadata": {},
   "outputs": [
    {
     "name": "stdout",
     "output_type": "stream",
     "text": [
      "[[3.45677003 4.0606697  4.6532053  3.52380207 3.9988995  3.42115688\n",
      "  5.24605945 5.33196818 5.22160152 5.89015583 4.02854864 3.5819889\n",
      "  3.80207918 4.75892626 3.84722981 4.05743292 6.24819737 4.87879799\n",
      "  4.62580583 4.59208361 5.68182453 6.62426456 4.33044472 5.27204909\n",
      "  4.91087836]\n",
      " [3.72899517 4.61488842 4.82612206 3.74060814 4.54484324 3.3869939\n",
      "  5.5851495  5.38735462 5.18029916 5.85117137 3.97014814 4.06975263\n",
      "  3.49611416 5.09308019 3.99482872 4.23725729 6.48857459 5.00445254\n",
      "  5.11074381 4.68889128 5.95044765 6.96529335 4.43808003 5.0928887\n",
      "  5.66581832]\n",
      " [4.35664004 3.59119723 5.05668354 4.4868064  4.94960985 3.774175\n",
      "  5.51400193 5.58454984 5.85329968 5.9921731  5.04746942 4.78409795\n",
      "  4.37736503 6.06339579 4.96060825 5.06720303 7.34780584 6.11279813\n",
      "  5.23006623 5.71529967 5.39860526 7.16851245 4.7318528  5.59917528\n",
      "  5.72893015]\n",
      " [4.78761371 4.00359683 4.71771131 4.2517145  4.82985677 4.21974319\n",
      "  5.3683343  5.70665341 6.09200484 6.72037272 4.95345164 4.98254193\n",
      "  4.54065607 6.09660562 4.89874364 5.18507362 7.13378208 5.44070711\n",
      "  4.83432307 5.60702792 5.94689331 7.48577412 4.61018512 5.68882022\n",
      "  6.26388864]\n",
      " [4.56503352 4.21246021 5.18569943 4.68844241 5.56265028 3.73491164\n",
      "  5.52502856 6.32592168 5.83719592 6.2752957  4.89455455 5.29086899\n",
      "  4.02096661 6.02430604 4.91700841 5.05192002 7.02917078 5.8852776\n",
      "  5.54489094 5.83813326 5.49984855 7.3401927  4.0759663  5.03251553\n",
      "  7.00226862]\n",
      " [5.06254212 4.58763238 4.90050803 4.07599036 5.6485957  3.99143026\n",
      "  5.71758844 5.69079864 5.556488   6.44517154 5.48272355 4.74149144\n",
      "  4.47366665 6.21427652 5.96344743 5.30102128 7.29228647 5.48777576\n",
      "  5.24246969 5.54945096 6.16095745 8.2800975  4.6206576  5.93131798\n",
      "  6.81149794]\n",
      " [4.36074985 3.57758069 4.83567662 3.74697495 4.20354649 3.39177228\n",
      "  5.58216178 4.73659999 4.79803774 4.76175966 3.78218214 4.82970206\n",
      "  3.52980922 5.76988385 4.17899368 4.182138   5.85773779 5.79120896\n",
      "  4.9991434  4.95240991 4.74550191 5.85270673 4.17694463 4.96560474\n",
      "  6.3579127 ]\n",
      " [3.74305538 4.36107787 3.81549809 3.20021027 4.19775031 2.65107961\n",
      "  4.39467764 4.1618894  4.33762583 4.84011125 3.27358828 3.64566839\n",
      "  3.52452716 4.74856955 4.28071077 3.36564978 5.12908892 4.48631312\n",
      "  4.26317904 4.17441408 5.04279171 6.07449987 3.75893495 4.54279802\n",
      "  4.568972  ]\n",
      " [4.454026   4.19490669 5.03918998 3.41513643 4.19658295 3.27674054\n",
      "  5.21125994 5.08739459 6.06796486 5.15313756 4.43863646 4.31313976\n",
      "  4.06161873 5.82733444 4.40330475 4.1441913  5.97250275 5.1921634\n",
      "  5.440081   4.79578985 5.11310517 7.05473915 4.44442539 5.94899034\n",
      "  5.45961519]\n",
      " [4.28623547 4.11764501 4.45314559 4.46271534 4.98313242 3.39112668\n",
      "  5.16257042 5.77247119 5.43543797 6.0237188  5.07666103 4.685128\n",
      "  4.43283505 5.29945617 4.75063151 5.08094851 7.0102071  5.15037051\n",
      "  5.13198235 5.2099883  5.3950253  7.22275215 4.38481707 5.27812852\n",
      "  6.28966666]]\n"
     ]
    }
   ],
   "source": [
    "import numpy as np\n",
    "a=np.random.random([10,20])\n",
    "b=np.random.random([20,25])\n",
    "print(np.matmul(a,b))"
   ]
  },
  {
   "cell_type": "markdown",
   "metadata": {},
   "source": [
    "#Create a numpy array A of shape(10,1).Using the basic operations of the numpy array generate an array of shape(10,1) such that each element is the following function applied on each element of A. "
   ]
  },
  {
   "cell_type": "code",
   "execution_count": 46,
   "metadata": {},
   "outputs": [
    {
     "name": "stdout",
     "output_type": "stream",
     "text": [
      "[[0.07151571]\n",
      " [0.61098267]\n",
      " [0.17194668]\n",
      " [0.94017083]\n",
      " [0.97103752]\n",
      " [0.96751201]\n",
      " [0.36647632]\n",
      " [0.13624633]\n",
      " [0.72773646]\n",
      " [0.91592555]]\n",
      "[[0.51787131]\n",
      " [0.64816493]\n",
      " [0.54288107]\n",
      " [0.71913416]\n",
      " [0.72532625]\n",
      " [0.72462331]\n",
      " [0.59060726]\n",
      " [0.53400899]\n",
      " [0.67430836]\n",
      " [0.71421118]]\n"
     ]
    }
   ],
   "source": [
    "import numpy as np\n",
    "A=np.random.random((10,1))\n",
    "print(A)\n",
    "def func(x):\n",
    "      return (1/(1+np.exp(-x)))\n",
    "result = np.apply_along_axis(func , 0 , A)\n",
    "print(result)"
   ]
  },
  {
   "cell_type": "code",
   "execution_count": null,
   "metadata": {},
   "outputs": [],
   "source": []
  }
 ],
 "metadata": {
  "kernelspec": {
   "display_name": "Python 3",
   "language": "python",
   "name": "python3"
  },
  "language_info": {
   "codemirror_mode": {
    "name": "ipython",
    "version": 3
   },
   "file_extension": ".py",
   "mimetype": "text/x-python",
   "name": "python",
   "nbconvert_exporter": "python",
   "pygments_lexer": "ipython3",
   "version": "3.6.5"
  }
 },
 "nbformat": 4,
 "nbformat_minor": 1
}
